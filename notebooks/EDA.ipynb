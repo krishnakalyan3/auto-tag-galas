{
 "cells": [
  {
   "cell_type": "code",
   "execution_count": 4,
   "metadata": {},
   "outputs": [],
   "source": [
    "%matplotlib inline\n",
    "%reload_ext autoreload\n",
    "%autoreload 2"
   ]
  },
  {
   "cell_type": "code",
   "execution_count": 5,
   "metadata": {},
   "outputs": [],
   "source": [
    "from fastai2.vision.all import *\n",
    "from efficientnet_pytorch import EfficientNet"
   ]
  },
  {
   "cell_type": "code",
   "execution_count": 6,
   "metadata": {},
   "outputs": [
    {
     "name": "stdout",
     "output_type": "stream",
     "text": [
      "8-512-2020-04-06_17:43:00\n"
     ]
    }
   ],
   "source": [
    "exp_time = str(datetime.now().replace(second=0, microsecond=0)).replace(\" \", \"_\")\n",
    "SIZE = 512\n",
    "BS = 8\n",
    "GPU = 0\n",
    "EXP_NAME = \"{}-{}-{}\".format(BS, SIZE, exp_time)\n",
    "print(EXP_NAME)"
   ]
  },
  {
   "cell_type": "code",
   "execution_count": 7,
   "metadata": {},
   "outputs": [],
   "source": [
    "CSV_PATH = \"/home/ubuntu/auto/dataset/train.csv\"\n",
    "df = pd.read_csv(CSV_PATH)"
   ]
  },
  {
   "cell_type": "code",
   "execution_count": 8,
   "metadata": {},
   "outputs": [],
   "source": [
    "item_tfms = [Resize(SIZE)]"
   ]
  },
  {
   "cell_type": "code",
   "execution_count": 9,
   "metadata": {},
   "outputs": [
    {
     "name": "stdout",
     "output_type": "stream",
     "text": [
      "Could not do one pass in your dataloader, there is something wrong in it\n"
     ]
    }
   ],
   "source": [
    "dls = ImageDataLoaders.from_df(df=df, path=\"/home/ubuntu/auto/dataset/train\", \n",
    "                                item_tfms=item_tfms, valid_pct=0.0,\n",
    "                                bs=BS, num_workers=16, device=GPU)"
   ]
  },
  {
   "cell_type": "code",
   "execution_count": 15,
   "metadata": {},
   "outputs": [],
   "source": [
    "class_id = []\n",
    "for x,y in  dls.train_ds:\n",
    "    class_id.append(int(y))\n",
    "    "
   ]
  },
  {
   "cell_type": "code",
   "execution_count": 17,
   "metadata": {},
   "outputs": [],
   "source": [
    "from collections import Counter"
   ]
  },
  {
   "cell_type": "code",
   "execution_count": 18,
   "metadata": {},
   "outputs": [
    {
     "data": {
      "text/plain": [
       "Counter({0: 1691, 2: 2278, 3: 1271, 1: 743})"
      ]
     },
     "execution_count": 18,
     "metadata": {},
     "output_type": "execute_result"
    }
   ],
   "source": [
    "Counter(class_id)"
   ]
  },
  {
   "cell_type": "code",
   "execution_count": 25,
   "metadata": {},
   "outputs": [],
   "source": [
    "_x = []\n",
    "_y = []\n",
    "for x,y in dls.train_ds:\n",
    "    _x.append(x.size[0])\n",
    "    _y.append(x.size[1])"
   ]
  },
  {
   "cell_type": "code",
   "execution_count": 26,
   "metadata": {},
   "outputs": [],
   "source": [
    "import matplotlib.pyplot as plt"
   ]
  },
  {
   "cell_type": "code",
   "execution_count": 29,
   "metadata": {},
   "outputs": [
    {
     "data": {
      "text/plain": [
       "array([80])"
      ]
     },
     "execution_count": 29,
     "metadata": {},
     "output_type": "execute_result"
    }
   ],
   "source": [
    "np.unique(_x)"
   ]
  },
  {
   "cell_type": "code",
   "execution_count": 30,
   "metadata": {},
   "outputs": [
    {
     "data": {
      "text/plain": [
       "array([ 20,  22,  24,  27,  28,  30,  31,  32,  33,  34,  35,  36,  37,\n",
       "        38,  39,  40,  41,  42,  43,  44,  45,  46,  47,  48,  49,  50,\n",
       "        51,  52,  53,  54,  55,  56,  57,  58,  59,  60,  61,  62,  63,\n",
       "        64,  65,  66,  67,  68,  69,  70,  71,  72,  73,  74,  75,  76,\n",
       "        77,  78,  79,  80,  81,  82,  83,  84,  85,  86,  87,  88,  89,\n",
       "        90,  91,  92,  93,  94,  95,  96,  97,  98,  99, 100, 101, 102,\n",
       "       103, 104, 105, 106, 107, 108, 109, 110, 111, 112, 113, 114, 115,\n",
       "       116, 117, 118, 119, 120, 121, 122, 123, 124, 125, 126, 127, 128,\n",
       "       129, 130, 131, 132, 133, 134, 135, 136, 137, 138, 139, 140, 141,\n",
       "       142, 143, 144, 146, 147, 148, 149, 151, 152, 154, 155, 156, 160,\n",
       "       161, 163, 166, 167, 168, 172, 174, 176, 178, 181, 183, 184, 186,\n",
       "       187, 191, 196, 199, 210, 211, 235])"
      ]
     },
     "execution_count": 30,
     "metadata": {},
     "output_type": "execute_result"
    }
   ],
   "source": [
    "np.unique(_y)"
   ]
  },
  {
   "cell_type": "code",
   "execution_count": 38,
   "metadata": {},
   "outputs": [
    {
     "data": {
      "text/plain": [
       "(array([4.000e+00, 5.000e+00, 1.200e+01, 3.400e+01, 1.700e+02, 1.690e+02,\n",
       "        1.538e+03, 1.577e+03, 1.380e+02, 6.600e+01, 7.500e+01, 6.490e+02,\n",
       "        4.000e+01, 5.200e+01, 5.100e+01, 6.400e+01, 5.790e+02, 7.000e+01,\n",
       "        5.480e+02, 3.500e+01, 2.100e+01, 1.500e+01, 3.300e+01, 7.000e+00,\n",
       "        6.000e+00, 2.000e+00, 3.000e+00, 3.000e+00, 2.000e+00, 5.000e+00,\n",
       "        3.000e+00, 2.000e+00, 1.000e+00, 1.000e+00, 0.000e+00, 2.000e+00,\n",
       "        0.000e+00, 0.000e+00, 0.000e+00, 1.000e+00]),\n",
       " array([ 20.   ,  25.375,  30.75 ,  36.125,  41.5  ,  46.875,  52.25 ,\n",
       "         57.625,  63.   ,  68.375,  73.75 ,  79.125,  84.5  ,  89.875,\n",
       "         95.25 , 100.625, 106.   , 111.375, 116.75 , 122.125, 127.5  ,\n",
       "        132.875, 138.25 , 143.625, 149.   , 154.375, 159.75 , 165.125,\n",
       "        170.5  , 175.875, 181.25 , 186.625, 192.   , 197.375, 202.75 ,\n",
       "        208.125, 213.5  , 218.875, 224.25 , 229.625, 235.   ]),\n",
       " <a list of 40 Patch objects>)"
      ]
     },
     "execution_count": 38,
     "metadata": {},
     "output_type": "execute_result"
    },
    {
     "data": {
      "image/png": "[encoded data removed]",
      "text/plain": [
       "<Figure size 432x288 with 1 Axes>"
      ]
     },
     "metadata": {
      "needs_background": "light"
     },
     "output_type": "display_data"
    }
   ],
   "source": [
    "plt.hist(_y, bins=40)"
   ]
  }
 ],
 "metadata": {
  "kernelspec": {
   "display_name": "Python 3",
   "language": "python",
   "name": "python3"
  },
  "language_info": {
   "codemirror_mode": {
    "name": "ipython",
    "version": 3
   },
   "file_extension": ".py",
   "mimetype": "text/x-python",
   "name": "python",
   "nbconvert_exporter": "python",
   "pygments_lexer": "ipython3",
   "version": "3.7.7"
  }
 },
 "nbformat": 4,
 "nbformat_minor": 4
}
